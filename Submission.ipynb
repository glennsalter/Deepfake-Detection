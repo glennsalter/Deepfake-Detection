{
 "cells": [
  {
   "cell_type": "code",
   "execution_count": 1,
   "id": "ac32466c-964f-48d5-9c38-2bc923fc3382",
   "metadata": {},
   "outputs": [
    {
     "data": {
      "text/plain": [
       "<torch._C.Generator at 0x7f6fb8075330>"
      ]
     },
     "execution_count": 1,
     "metadata": {},
     "output_type": "execute_result"
    }
   ],
   "source": [
    "import torch\n",
    "from torch.utils.data import DataLoader\n",
    "from torchvision import datasets, models, transforms\n",
    "\n",
    "device = \"cuda\" if torch.cuda.is_available() else \"cpu\"\n",
    "device\n",
    "\n",
    "# Random\n",
    "torch.manual_seed(2022)"
   ]
  },
  {
   "cell_type": "code",
   "execution_count": 2,
   "id": "db538988-6922-42f8-b362-5e06b3aee11d",
   "metadata": {},
   "outputs": [],
   "source": [
    "from functools import partial\n",
    "import numpy as np\n",
    "import torch\n",
    "from timm.models.efficientnet import tf_efficientnet_b4_ns, tf_efficientnet_b3_ns, \\\n",
    "    tf_efficientnet_b5_ns, tf_efficientnet_b2_ns, tf_efficientnet_b6_ns, tf_efficientnet_b7_ns\n",
    "from torch import nn\n",
    "from torch.nn.modules.dropout import Dropout\n",
    "from torch.nn.modules.linear import Linear\n",
    "from torch.nn.modules.pooling import AdaptiveAvgPool2d\n",
    "import torch.nn.functional as F \n",
    "\n",
    "encoder_params = {\n",
    "    \"tf_efficientnet_b3_ns\": {\n",
    "        \"features\": 1536,\n",
    "        \"init_op\": partial(tf_efficientnet_b3_ns, pretrained=True, drop_path_rate=0.2)\n",
    "    },\n",
    "    \"tf_efficientnet_b2_ns\": {\n",
    "        \"features\": 1408,\n",
    "        \"init_op\": partial(tf_efficientnet_b2_ns, pretrained=False, drop_path_rate=0.2)\n",
    "    },\n",
    "    \"tf_efficientnet_b4_ns\": {\n",
    "        \"features\": 1792,\n",
    "        \"init_op\": partial(tf_efficientnet_b4_ns, pretrained=True, drop_path_rate=0.5)\n",
    "    },\n",
    "    \"tf_efficientnet_b5_ns\": {\n",
    "        \"features\": 2048,\n",
    "        \"init_op\": partial(tf_efficientnet_b5_ns, pretrained=True, drop_path_rate=0.2)\n",
    "    },\n",
    "    \"tf_efficientnet_b4_ns_03d\": {\n",
    "        \"features\": 1792,\n",
    "        \"init_op\": partial(tf_efficientnet_b4_ns, pretrained=True, drop_path_rate=0.3)\n",
    "    },\n",
    "    \"tf_efficientnet_b5_ns_03d\": {\n",
    "        \"features\": 2048,\n",
    "        \"init_op\": partial(tf_efficientnet_b5_ns, pretrained=True, drop_path_rate=0.3)\n",
    "    },\n",
    "    \"tf_efficientnet_b5_ns_04d\": {\n",
    "        \"features\": 2048,\n",
    "        \"init_op\": partial(tf_efficientnet_b5_ns, pretrained=True, drop_path_rate=0.4)\n",
    "    },\n",
    "    \"tf_efficientnet_b6_ns\": {\n",
    "        \"features\": 2304,\n",
    "        \"init_op\": partial(tf_efficientnet_b6_ns, pretrained=True, drop_path_rate=0.2)\n",
    "    },\n",
    "    \"tf_efficientnet_b7_ns\": {\n",
    "        \"features\": 2560,\n",
    "        \"init_op\": partial(tf_efficientnet_b7_ns, pretrained=True, drop_path_rate=0.2)\n",
    "    },\n",
    "    \"tf_efficientnet_b6_ns_04d\": {\n",
    "        \"features\": 2304,\n",
    "        \"init_op\": partial(tf_efficientnet_b6_ns, pretrained=True, drop_path_rate=0.4)\n",
    "    },\n",
    "}\n",
    "\n",
    "class DeepFakeClassifier(nn.Module):\n",
    "    def _init_(self, encoder, dropout_rate=0.0) -> None:\n",
    "        super()._init_()\n",
    "        self.encoder = encoder_params[encoder][\"init_op\"]()\n",
    "        self.avg_pool = AdaptiveAvgPool2d((1, 1))\n",
    "        self.dropout = Dropout(dropout_rate)\n",
    "        self.fc1 = Linear(encoder_params[encoder][\"features\"], 1)\n",
    "        self.fc2 = Linear(120, 1)\n",
    "\n",
    "    def forward(self, x):\n",
    "        x = self.encoder.forward_features(x)\n",
    "        x = self.avg_pool(x).flatten(1)\n",
    "        x = self.dropout(x)\n",
    "        x = self.fc1(x)\n",
    "#         x = self.fc2(x)\n",
    "        return x"
   ]
  },
  {
   "cell_type": "code",
   "execution_count": 3,
   "id": "ce90746a-e475-4748-b97a-354cabbb8db8",
   "metadata": {},
   "outputs": [],
   "source": [
    "def test(model_ft, data_path):\n",
    "    import torch\n",
    "    import torchvision\n",
    "    from torch.utils.data import DataLoader\n",
    "    from tqdm import tqdm\n",
    "    import torch.nn as nn\n",
    "    import torch.nn.functional as F \n",
    "    from torchvision import datasets, models, transforms\n",
    "    import matplotlib.pyplot as plt\n",
    "    from torchmetrics.functional import precision_recall, auc, roc\n",
    "    \n",
    "    all_data = datasets.ImageFolder(root=data_path,\n",
    "                                    transform=transforms.Compose([\n",
    "                                        transforms.Resize((299,299)),\n",
    "                                        transforms.ToTensor(),\n",
    "                                        transforms.Normalize([0.485, 0.456, 0.406], [0.229, 0.224, 0.225])]),\n",
    "                                    target_transform=None)\n",
    "        \n",
    "    test_dataloader = DataLoader(dataset=all_data, \n",
    "                            batch_size=10,\n",
    "                            num_workers=1, \n",
    "                            shuffle=False)\n",
    "    \n",
    "    model_ft.to(device)\n",
    "    model_ft.eval()\n",
    "    list_preds = None\n",
    "    list_labels = None\n",
    "    \n",
    "    with torch.no_grad():\n",
    "        for inputs, labels in tqdm(test_dataloader):\n",
    "            inputs = inputs.to(device, dtype=torch.float32)\n",
    "            labels = labels.to(device, dtype=torch.float32)\n",
    "\n",
    "            outputs = model_ft(inputs)\n",
    "            preds = nn.Sigmoid()(outputs)\n",
    "            preds = preds.squeeze(1)\n",
    "\n",
    "            if list_preds is not None:\n",
    "                list_preds = torch.hstack((list_preds, preds.cpu()))\n",
    "                list_labels = torch.hstack((list_labels, labels.cpu()))\n",
    "            else:\n",
    "                list_preds = preds.cpu()\n",
    "                list_labels = labels.cpu()\n",
    "        \n",
    "    precision, recall = precision_recall(list_preds, list_labels.long(), average='macro', num_classes=1)\n",
    "    fpr, tpr, thresholds = roc(list_preds, list_labels)\n",
    "    \n",
    "    # after you calculate AUC\n",
    "    list_preds = list_preds > 0.5\n",
    "    list_preds = list_preds.long()\n",
    "    list_labels = list_labels.long()\n",
    "    \n",
    "    acc = torch.sum(list_preds == list_labels) / len(all_data)\n",
    "    AUC = auc(tpr, fpr, reorder=True)\n",
    "    \n",
    "    return acc.item(), recall.item(), precision.item(), max(AUC.item(), 1-AUC.item())"
   ]
  },
  {
   "cell_type": "markdown",
   "id": "92b655fd-a35a-476d-bdc9-21370a50e84c",
   "metadata": {},
   "source": [
    "Modify the following paths to data and model"
   ]
  },
  {
   "cell_type": "code",
   "execution_count": 4,
   "id": "73c211e2-bfdd-4ed0-adc7-05e1ac9a9c04",
   "metadata": {},
   "outputs": [],
   "source": [
    "PATH_TO_MODEL = \"./dfdc_t6.pt\"\n",
    "PATH_TO_DATA = \"./data\""
   ]
  },
  {
   "cell_type": "code",
   "execution_count": 5,
   "id": "db22085c-9bd0-49b5-a494-f198a4f232e4",
   "metadata": {},
   "outputs": [
    {
     "name": "stderr",
     "output_type": "stream",
     "text": [
      "100%|███████████████████████████████████████| 1200/1200 [02:33<00:00,  7.81it/s]\n"
     ]
    },
    {
     "name": "stdout",
     "output_type": "stream",
     "text": [
      "0.996666669845581 0.9975000023841858 0.9925373196601868 0.9999079062181409\n"
     ]
    }
   ],
   "source": [
    "model = torch.load(PATH_TO_MODEL)\n",
    "acc, recall, precision, auc = test(model, PATH_TO_DATA) \n",
    "print(acc, recall, precision, auc)"
   ]
  }
 ],
 "metadata": {
  "kernelspec": {
   "display_name": "Python 3 (ipykernel)",
   "language": "python",
   "name": "python3"
  },
  "language_info": {
   "codemirror_mode": {
    "name": "ipython",
    "version": 3
   },
   "file_extension": ".py",
   "mimetype": "text/x-python",
   "name": "python",
   "nbconvert_exporter": "python",
   "pygments_lexer": "ipython3",
   "version": "3.9.13"
  }
 },
 "nbformat": 4,
 "nbformat_minor": 5
}
